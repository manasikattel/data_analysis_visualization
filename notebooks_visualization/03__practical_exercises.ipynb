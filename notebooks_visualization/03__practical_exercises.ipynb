{
 "cells": [
  {
   "cell_type": "markdown",
   "metadata": {},
   "source": [
    "## Practical Exercises\n",
    "\n",
    "We are going to work on a different dataset from the theory. It's a dataset oriented to housing properties on sale in Melbourne, Australia. Each row registers a sold property and each column its properties."
   ]
  },
  {
   "cell_type": "code",
   "execution_count": 1,
   "metadata": {},
   "outputs": [],
   "source": [
    "import pandas as pd\n",
    "\n",
    "melb_housing_df = pd.read_csv(\"../data/melb_housing_df.csv\")\n",
    "\n",
    "# If you are using google colab use this code to load the dataframe.\n",
    "# url = \"https://raw.githubusercontent.com/benjaminocampo/CDL_data_visualization/main/data/melb_housing_df.csv\"\n",
    "# melb_housing_df = pd.read_csv(url)"
   ]
  },
  {
   "cell_type": "code",
   "execution_count": 4,
   "metadata": {},
   "outputs": [],
   "source": [
    "melb_housing_df[\"label\"] = (melb_housing_df[\"housing_price\"] > 1000000).replace({True: 1, False: 0})"
   ]
  },
  {
   "cell_type": "code",
   "execution_count": 5,
   "metadata": {},
   "outputs": [
    {
     "data": {
      "text/plain": [
       "0    7837\n",
       "1    5369\n",
       "Name: label, dtype: int64"
      ]
     },
     "execution_count": 5,
     "metadata": {},
     "output_type": "execute_result"
    }
   ],
   "source": [
    "melb_housing_df[\"label\"].value_counts()"
   ]
  },
  {
   "cell_type": "markdown",
   "metadata": {},
   "source": [
    "Exercise 0) Split the dataset in train and test set based on the label giving 80/% for the training data and 20/% for the testing data. Use `train_test_split` from `sklearn.model_selection`\n",
    "\n",
    "Use these columns as feature vectors `[\n",
    "    'housing_type',\n",
    "    'housing_selling_method',\n",
    "    'housing_bathroom_segment',\n",
    "    'housing_room_segment',\n",
    "    'housing_cbd_distance',\n",
    "    'housing_land_size'\n",
    "]`\n",
    "\n",
    "Use `label` as y."
   ]
  },
  {
   "cell_type": "markdown",
   "metadata": {},
   "source": [
    "Exercise 1): You have a dataframe containing information about various housing properties. Your task is to perform feature engineering to prepare the data for machine learning models.\n",
    "\n",
    "- One-hot encode the following categorical columns:\n",
    "    `housing_type`, \n",
    "    `housing_selling_method`, \n",
    "    `housing_bathroom_segment`, \n",
    "    `housing_room_segment`\n",
    "\n",
    "- Keep these numerical columns in the feature set:\n",
    "    `housing_cbd_distance`\n",
    "    `housing_land_size`\n",
    "\n",
    "- Drop all other columns from the dataframe.\n",
    "\n",
    "\n",
    "Remember to fit the encoders with only the training data."
   ]
  },
  {
   "cell_type": "code",
   "execution_count": null,
   "metadata": {},
   "outputs": [],
   "source": [
    "one_hot_columns = [\n",
    "    'housing_type',\n",
    "    'housing_selling_method',\n",
    "    'housing_bathroom_segment',\n",
    "    'housing_room_segment'\n",
    "]\n",
    "\n",
    "numerical_columns = [\n",
    "    'housing_cbd_distance',\n",
    "    'housing_land_size'\n",
    "]\n"
   ]
  },
  {
   "cell_type": "markdown",
   "metadata": {},
   "source": [
    "Exercise 2) Apply an standard scaler to only the numerical columns.\n",
    "\n",
    "Remember to fit the scaler with only the training data."
   ]
  },
  {
   "cell_type": "markdown",
   "metadata": {},
   "source": [
    "Exercise 3) Use the Pipeline class of scikit-learn to apply the transformations in Exercise 1 and 2 and then after standarization add in the pipeline an step of polynomial features of degree 3."
   ]
  },
  {
   "cell_type": "markdown",
   "metadata": {},
   "source": [
    "Exercise 4) Calculate the size in MB of the resultant train and test matrices."
   ]
  },
  {
   "cell_type": "markdown",
   "metadata": {},
   "source": [
    "Exercise 5) Train a LogisticRegression model on the training set, evaluate on the test set. Make the confusion matrix plot for the predictions on the test set."
   ]
  },
  {
   "cell_type": "markdown",
   "metadata": {},
   "source": []
  }
 ],
 "metadata": {
  "interpreter": {
   "hash": "9a261fe3232d26f5c8a3b17afd155c889a6f52aad30d4dff29769029555a05e9"
  },
  "kernelspec": {
   "display_name": "Python 3.9.7 ('phd-corpora')",
   "language": "python",
   "name": "python3"
  },
  "language_info": {
   "codemirror_mode": {
    "name": "ipython",
    "version": 3
   },
   "file_extension": ".py",
   "mimetype": "text/x-python",
   "name": "python",
   "nbconvert_exporter": "python",
   "pygments_lexer": "ipython3",
   "version": "3.9.7"
  },
  "orig_nbformat": 4
 },
 "nbformat": 4,
 "nbformat_minor": 2
}
