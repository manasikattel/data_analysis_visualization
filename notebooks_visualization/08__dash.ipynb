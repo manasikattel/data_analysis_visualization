{
 "cells": [
  {
   "cell_type": "markdown",
   "metadata": {
    "id": "EB5yOZ6THhUF"
   },
   "source": [
    "# Basics of Dash"
   ]
  },
  {
   "cell_type": "markdown",
   "metadata": {
    "id": "fYFUOfniHmSk"
   },
   "source": [
    "## Installation"
   ]
  },
  {
   "cell_type": "markdown",
   "metadata": {
    "id": "edL2ODcZHw-j"
   },
   "source": [
    "We are going to use Google Colab to deploy in a localhost server a Dash application. In this way we will avoid using environments or further configuration steps in our computers. We only need to install dash by means of the python package manager pip."
   ]
  },
  {
   "cell_type": "code",
   "execution_count": 1,
   "metadata": {
    "colab": {
     "base_uri": "https://localhost:8080/"
    },
    "id": "GyH0VdFmNFG2",
    "outputId": "8c5be183-aac0-42bd-9b58-58d0fb50297e"
   },
   "outputs": [
    {
     "name": "stdout",
     "output_type": "stream",
     "text": [
      "Collecting dash\n",
      "  Downloading dash-2.18.1-py3-none-any.whl.metadata (10 kB)\n",
      "Collecting Flask<3.1,>=1.0.4 (from dash)\n",
      "  Downloading flask-3.0.3-py3-none-any.whl.metadata (3.2 kB)\n",
      "Collecting Werkzeug<3.1 (from dash)\n",
      "  Downloading werkzeug-3.0.4-py3-none-any.whl.metadata (3.7 kB)\n",
      "Requirement already satisfied: plotly>=5.0.0 in /Users/mkattel/miniconda3/envs/reg/lib/python3.12/site-packages (from dash) (5.20.0)\n",
      "Collecting dash-html-components==2.0.0 (from dash)\n",
      "  Downloading dash_html_components-2.0.0-py3-none-any.whl.metadata (3.8 kB)\n",
      "Collecting dash-core-components==2.0.0 (from dash)\n",
      "  Downloading dash_core_components-2.0.0-py3-none-any.whl.metadata (2.9 kB)\n",
      "Collecting dash-table==5.0.0 (from dash)\n",
      "  Downloading dash_table-5.0.0-py3-none-any.whl.metadata (2.4 kB)\n",
      "Requirement already satisfied: importlib-metadata in /Users/mkattel/miniconda3/envs/reg/lib/python3.12/site-packages (from dash) (7.0.1)\n",
      "Requirement already satisfied: typing-extensions>=4.1.1 in /Users/mkattel/miniconda3/envs/reg/lib/python3.12/site-packages (from dash) (4.9.0)\n",
      "Requirement already satisfied: requests in /Users/mkattel/miniconda3/envs/reg/lib/python3.12/site-packages (from dash) (2.31.0)\n",
      "Collecting retrying (from dash)\n",
      "  Downloading retrying-1.3.4-py3-none-any.whl.metadata (6.9 kB)\n",
      "Requirement already satisfied: nest-asyncio in /Users/mkattel/miniconda3/envs/reg/lib/python3.12/site-packages (from dash) (1.6.0)\n",
      "Requirement already satisfied: setuptools in /Users/mkattel/miniconda3/envs/reg/lib/python3.12/site-packages (from dash) (68.2.2)\n",
      "Requirement already satisfied: Jinja2>=3.1.2 in /Users/mkattel/miniconda3/envs/reg/lib/python3.12/site-packages (from Flask<3.1,>=1.0.4->dash) (3.1.3)\n",
      "Collecting itsdangerous>=2.1.2 (from Flask<3.1,>=1.0.4->dash)\n",
      "  Downloading itsdangerous-2.2.0-py3-none-any.whl.metadata (1.9 kB)\n",
      "Requirement already satisfied: click>=8.1.3 in /Users/mkattel/miniconda3/envs/reg/lib/python3.12/site-packages (from Flask<3.1,>=1.0.4->dash) (8.1.7)\n",
      "Collecting blinker>=1.6.2 (from Flask<3.1,>=1.0.4->dash)\n",
      "  Downloading blinker-1.8.2-py3-none-any.whl.metadata (1.6 kB)\n",
      "Requirement already satisfied: tenacity>=6.2.0 in /Users/mkattel/miniconda3/envs/reg/lib/python3.12/site-packages (from plotly>=5.0.0->dash) (8.2.3)\n",
      "Requirement already satisfied: packaging in /Users/mkattel/miniconda3/envs/reg/lib/python3.12/site-packages (from plotly>=5.0.0->dash) (23.2)\n",
      "Requirement already satisfied: MarkupSafe>=2.1.1 in /Users/mkattel/miniconda3/envs/reg/lib/python3.12/site-packages (from Werkzeug<3.1->dash) (2.1.5)\n",
      "Requirement already satisfied: zipp>=0.5 in /Users/mkattel/miniconda3/envs/reg/lib/python3.12/site-packages (from importlib-metadata->dash) (3.17.0)\n",
      "Requirement already satisfied: charset-normalizer<4,>=2 in /Users/mkattel/miniconda3/envs/reg/lib/python3.12/site-packages (from requests->dash) (3.3.2)\n",
      "Requirement already satisfied: idna<4,>=2.5 in /Users/mkattel/miniconda3/envs/reg/lib/python3.12/site-packages (from requests->dash) (3.6)\n",
      "Requirement already satisfied: urllib3<3,>=1.21.1 in /Users/mkattel/miniconda3/envs/reg/lib/python3.12/site-packages (from requests->dash) (2.2.1)\n",
      "Requirement already satisfied: certifi>=2017.4.17 in /Users/mkattel/miniconda3/envs/reg/lib/python3.12/site-packages (from requests->dash) (2024.2.2)\n",
      "Requirement already satisfied: six>=1.7.0 in /Users/mkattel/miniconda3/envs/reg/lib/python3.12/site-packages (from retrying->dash) (1.16.0)\n",
      "Downloading dash-2.18.1-py3-none-any.whl (7.5 MB)\n",
      "\u001b[2K   \u001b[90m━━━━━━━━━━━━━━━━━━━━━━━━━━━━━━━━━━━━━━━━\u001b[0m \u001b[32m7.5/7.5 MB\u001b[0m \u001b[31m33.6 MB/s\u001b[0m eta \u001b[36m0:00:00\u001b[0ma \u001b[36m0:00:01\u001b[0m\n",
      "\u001b[?25hDownloading dash_core_components-2.0.0-py3-none-any.whl (3.8 kB)\n",
      "Downloading dash_html_components-2.0.0-py3-none-any.whl (4.1 kB)\n",
      "Downloading dash_table-5.0.0-py3-none-any.whl (3.9 kB)\n",
      "Downloading flask-3.0.3-py3-none-any.whl (101 kB)\n",
      "\u001b[2K   \u001b[90m━━━━━━━━━━━━━━━━━━━━━━━━━━━━━━━━━━━━━━━━\u001b[0m \u001b[32m101.7/101.7 kB\u001b[0m \u001b[31m5.4 MB/s\u001b[0m eta \u001b[36m0:00:00\u001b[0m\n",
      "\u001b[?25hDownloading werkzeug-3.0.4-py3-none-any.whl (227 kB)\n",
      "\u001b[2K   \u001b[90m━━━━━━━━━━━━━━━━━━━━━━━━━━━━━━━━━━━━━━━━\u001b[0m \u001b[32m227.6/227.6 kB\u001b[0m \u001b[31m13.9 MB/s\u001b[0m eta \u001b[36m0:00:00\u001b[0m\n",
      "\u001b[?25hDownloading retrying-1.3.4-py3-none-any.whl (11 kB)\n",
      "Downloading blinker-1.8.2-py3-none-any.whl (9.5 kB)\n",
      "Downloading itsdangerous-2.2.0-py3-none-any.whl (16 kB)\n",
      "Installing collected packages: dash-table, dash-html-components, dash-core-components, Werkzeug, retrying, itsdangerous, blinker, Flask, dash\n",
      "Successfully installed Flask-3.0.3 Werkzeug-3.0.4 blinker-1.8.2 dash-2.18.1 dash-core-components-2.0.0 dash-html-components-2.0.0 dash-table-5.0.0 itsdangerous-2.2.0 retrying-1.3.4\n"
     ]
    }
   ],
   "source": [
    "!pip install dash"
   ]
  },
  {
   "cell_type": "code",
   "execution_count": 2,
   "metadata": {
    "id": "P_UGS1d2VWOA"
   },
   "outputs": [
    {
     "name": "stdout",
     "output_type": "stream",
     "text": [
      "Collecting jupyter-dash\n",
      "  Downloading jupyter_dash-0.4.2-py3-none-any.whl.metadata (3.6 kB)\n",
      "Requirement already satisfied: dash in /Users/mkattel/miniconda3/envs/reg/lib/python3.12/site-packages (from jupyter-dash) (2.18.1)\n",
      "Requirement already satisfied: requests in /Users/mkattel/miniconda3/envs/reg/lib/python3.12/site-packages (from jupyter-dash) (2.31.0)\n",
      "Requirement already satisfied: flask in /Users/mkattel/miniconda3/envs/reg/lib/python3.12/site-packages (from jupyter-dash) (3.0.3)\n",
      "Requirement already satisfied: retrying in /Users/mkattel/miniconda3/envs/reg/lib/python3.12/site-packages (from jupyter-dash) (1.3.4)\n",
      "Requirement already satisfied: ipython in /Users/mkattel/miniconda3/envs/reg/lib/python3.12/site-packages (from jupyter-dash) (8.21.0)\n",
      "Requirement already satisfied: ipykernel in /Users/mkattel/miniconda3/envs/reg/lib/python3.12/site-packages (from jupyter-dash) (6.29.2)\n",
      "Collecting ansi2html (from jupyter-dash)\n",
      "  Downloading ansi2html-1.9.2-py3-none-any.whl.metadata (3.7 kB)\n",
      "Requirement already satisfied: nest-asyncio in /Users/mkattel/miniconda3/envs/reg/lib/python3.12/site-packages (from jupyter-dash) (1.6.0)\n",
      "Requirement already satisfied: Werkzeug<3.1 in /Users/mkattel/miniconda3/envs/reg/lib/python3.12/site-packages (from dash->jupyter-dash) (3.0.4)\n",
      "Requirement already satisfied: plotly>=5.0.0 in /Users/mkattel/miniconda3/envs/reg/lib/python3.12/site-packages (from dash->jupyter-dash) (5.20.0)\n",
      "Requirement already satisfied: dash-html-components==2.0.0 in /Users/mkattel/miniconda3/envs/reg/lib/python3.12/site-packages (from dash->jupyter-dash) (2.0.0)\n",
      "Requirement already satisfied: dash-core-components==2.0.0 in /Users/mkattel/miniconda3/envs/reg/lib/python3.12/site-packages (from dash->jupyter-dash) (2.0.0)\n",
      "Requirement already satisfied: dash-table==5.0.0 in /Users/mkattel/miniconda3/envs/reg/lib/python3.12/site-packages (from dash->jupyter-dash) (5.0.0)\n",
      "Requirement already satisfied: importlib-metadata in /Users/mkattel/miniconda3/envs/reg/lib/python3.12/site-packages (from dash->jupyter-dash) (7.0.1)\n",
      "Requirement already satisfied: typing-extensions>=4.1.1 in /Users/mkattel/miniconda3/envs/reg/lib/python3.12/site-packages (from dash->jupyter-dash) (4.9.0)\n",
      "Requirement already satisfied: setuptools in /Users/mkattel/miniconda3/envs/reg/lib/python3.12/site-packages (from dash->jupyter-dash) (68.2.2)\n",
      "Requirement already satisfied: Jinja2>=3.1.2 in /Users/mkattel/miniconda3/envs/reg/lib/python3.12/site-packages (from flask->jupyter-dash) (3.1.3)\n",
      "Requirement already satisfied: itsdangerous>=2.1.2 in /Users/mkattel/miniconda3/envs/reg/lib/python3.12/site-packages (from flask->jupyter-dash) (2.2.0)\n",
      "Requirement already satisfied: click>=8.1.3 in /Users/mkattel/miniconda3/envs/reg/lib/python3.12/site-packages (from flask->jupyter-dash) (8.1.7)\n",
      "Requirement already satisfied: blinker>=1.6.2 in /Users/mkattel/miniconda3/envs/reg/lib/python3.12/site-packages (from flask->jupyter-dash) (1.8.2)\n",
      "Requirement already satisfied: appnope in /Users/mkattel/miniconda3/envs/reg/lib/python3.12/site-packages (from ipykernel->jupyter-dash) (0.1.4)\n",
      "Requirement already satisfied: comm>=0.1.1 in /Users/mkattel/miniconda3/envs/reg/lib/python3.12/site-packages (from ipykernel->jupyter-dash) (0.2.1)\n",
      "Requirement already satisfied: debugpy>=1.6.5 in /Users/mkattel/miniconda3/envs/reg/lib/python3.12/site-packages (from ipykernel->jupyter-dash) (1.6.7)\n",
      "Requirement already satisfied: jupyter-client>=6.1.12 in /Users/mkattel/miniconda3/envs/reg/lib/python3.12/site-packages (from ipykernel->jupyter-dash) (8.6.0)\n",
      "Requirement already satisfied: jupyter-core!=5.0.*,>=4.12 in /Users/mkattel/miniconda3/envs/reg/lib/python3.12/site-packages (from ipykernel->jupyter-dash) (5.5.0)\n",
      "Requirement already satisfied: matplotlib-inline>=0.1 in /Users/mkattel/miniconda3/envs/reg/lib/python3.12/site-packages (from ipykernel->jupyter-dash) (0.1.6)\n",
      "Requirement already satisfied: packaging in /Users/mkattel/miniconda3/envs/reg/lib/python3.12/site-packages (from ipykernel->jupyter-dash) (23.2)\n",
      "Requirement already satisfied: psutil in /Users/mkattel/miniconda3/envs/reg/lib/python3.12/site-packages (from ipykernel->jupyter-dash) (5.9.0)\n",
      "Requirement already satisfied: pyzmq>=24 in /Users/mkattel/miniconda3/envs/reg/lib/python3.12/site-packages (from ipykernel->jupyter-dash) (25.1.2)\n",
      "Requirement already satisfied: tornado>=6.1 in /Users/mkattel/miniconda3/envs/reg/lib/python3.12/site-packages (from ipykernel->jupyter-dash) (6.3.3)\n",
      "Requirement already satisfied: traitlets>=5.4.0 in /Users/mkattel/miniconda3/envs/reg/lib/python3.12/site-packages (from ipykernel->jupyter-dash) (5.14.1)\n",
      "Requirement already satisfied: decorator in /Users/mkattel/miniconda3/envs/reg/lib/python3.12/site-packages (from ipython->jupyter-dash) (5.1.1)\n",
      "Requirement already satisfied: jedi>=0.16 in /Users/mkattel/miniconda3/envs/reg/lib/python3.12/site-packages (from ipython->jupyter-dash) (0.19.1)\n",
      "Requirement already satisfied: prompt-toolkit<3.1.0,>=3.0.41 in /Users/mkattel/miniconda3/envs/reg/lib/python3.12/site-packages (from ipython->jupyter-dash) (3.0.42)\n",
      "Requirement already satisfied: pygments>=2.4.0 in /Users/mkattel/miniconda3/envs/reg/lib/python3.12/site-packages (from ipython->jupyter-dash) (2.17.2)\n",
      "Requirement already satisfied: stack-data in /Users/mkattel/miniconda3/envs/reg/lib/python3.12/site-packages (from ipython->jupyter-dash) (0.6.2)\n",
      "Requirement already satisfied: pexpect>4.3 in /Users/mkattel/miniconda3/envs/reg/lib/python3.12/site-packages (from ipython->jupyter-dash) (4.9.0)\n",
      "Requirement already satisfied: charset-normalizer<4,>=2 in /Users/mkattel/miniconda3/envs/reg/lib/python3.12/site-packages (from requests->jupyter-dash) (3.3.2)\n",
      "Requirement already satisfied: idna<4,>=2.5 in /Users/mkattel/miniconda3/envs/reg/lib/python3.12/site-packages (from requests->jupyter-dash) (3.6)\n",
      "Requirement already satisfied: urllib3<3,>=1.21.1 in /Users/mkattel/miniconda3/envs/reg/lib/python3.12/site-packages (from requests->jupyter-dash) (2.2.1)\n",
      "Requirement already satisfied: certifi>=2017.4.17 in /Users/mkattel/miniconda3/envs/reg/lib/python3.12/site-packages (from requests->jupyter-dash) (2024.2.2)\n",
      "Requirement already satisfied: six>=1.7.0 in /Users/mkattel/miniconda3/envs/reg/lib/python3.12/site-packages (from retrying->jupyter-dash) (1.16.0)\n",
      "Requirement already satisfied: parso<0.9.0,>=0.8.3 in /Users/mkattel/miniconda3/envs/reg/lib/python3.12/site-packages (from jedi>=0.16->ipython->jupyter-dash) (0.8.3)\n",
      "Requirement already satisfied: MarkupSafe>=2.0 in /Users/mkattel/miniconda3/envs/reg/lib/python3.12/site-packages (from Jinja2>=3.1.2->flask->jupyter-dash) (2.1.5)\n",
      "Requirement already satisfied: python-dateutil>=2.8.2 in /Users/mkattel/miniconda3/envs/reg/lib/python3.12/site-packages (from jupyter-client>=6.1.12->ipykernel->jupyter-dash) (2.8.2)\n",
      "Requirement already satisfied: platformdirs>=2.5 in /Users/mkattel/miniconda3/envs/reg/lib/python3.12/site-packages (from jupyter-core!=5.0.*,>=4.12->ipykernel->jupyter-dash) (4.2.0)\n",
      "Requirement already satisfied: ptyprocess>=0.5 in /Users/mkattel/miniconda3/envs/reg/lib/python3.12/site-packages (from pexpect>4.3->ipython->jupyter-dash) (0.7.0)\n",
      "Requirement already satisfied: tenacity>=6.2.0 in /Users/mkattel/miniconda3/envs/reg/lib/python3.12/site-packages (from plotly>=5.0.0->dash->jupyter-dash) (8.2.3)\n",
      "Requirement already satisfied: wcwidth in /Users/mkattel/miniconda3/envs/reg/lib/python3.12/site-packages (from prompt-toolkit<3.1.0,>=3.0.41->ipython->jupyter-dash) (0.2.13)\n",
      "Requirement already satisfied: zipp>=0.5 in /Users/mkattel/miniconda3/envs/reg/lib/python3.12/site-packages (from importlib-metadata->dash->jupyter-dash) (3.17.0)\n",
      "Requirement already satisfied: executing>=1.2.0 in /Users/mkattel/miniconda3/envs/reg/lib/python3.12/site-packages (from stack-data->ipython->jupyter-dash) (2.0.1)\n",
      "Requirement already satisfied: asttokens>=2.1.0 in /Users/mkattel/miniconda3/envs/reg/lib/python3.12/site-packages (from stack-data->ipython->jupyter-dash) (2.4.1)\n",
      "Requirement already satisfied: pure-eval in /Users/mkattel/miniconda3/envs/reg/lib/python3.12/site-packages (from stack-data->ipython->jupyter-dash) (0.2.2)\n",
      "Downloading jupyter_dash-0.4.2-py3-none-any.whl (23 kB)\n",
      "Downloading ansi2html-1.9.2-py3-none-any.whl (17 kB)\n",
      "Installing collected packages: ansi2html, jupyter-dash\n",
      "Successfully installed ansi2html-1.9.2 jupyter-dash-0.4.2\n"
     ]
    }
   ],
   "source": [
    "!pip install jupyter-dash"
   ]
  },
  {
   "cell_type": "code",
   "execution_count": 3,
   "metadata": {},
   "outputs": [
    {
     "name": "stdout",
     "output_type": "stream",
     "text": [
      "Requirement already satisfied: pandas in /Users/mkattel/miniconda3/envs/reg/lib/python3.12/site-packages (2.2.0)\n",
      "Requirement already satisfied: numpy<2,>=1.26.0 in /Users/mkattel/miniconda3/envs/reg/lib/python3.12/site-packages (from pandas) (1.26.4)\n",
      "Requirement already satisfied: python-dateutil>=2.8.2 in /Users/mkattel/miniconda3/envs/reg/lib/python3.12/site-packages (from pandas) (2.8.2)\n",
      "Requirement already satisfied: pytz>=2020.1 in /Users/mkattel/miniconda3/envs/reg/lib/python3.12/site-packages (from pandas) (2024.1)\n",
      "Requirement already satisfied: tzdata>=2022.7 in /Users/mkattel/miniconda3/envs/reg/lib/python3.12/site-packages (from pandas) (2024.1)\n",
      "Requirement already satisfied: six>=1.5 in /Users/mkattel/miniconda3/envs/reg/lib/python3.12/site-packages (from python-dateutil>=2.8.2->pandas) (1.16.0)\n"
     ]
    }
   ],
   "source": [
    "!pip install pandas"
   ]
  },
  {
   "cell_type": "markdown",
   "metadata": {
    "id": "zuanG-uFHuQl"
   },
   "source": [
    "## Libraries"
   ]
  },
  {
   "cell_type": "markdown",
   "metadata": {
    "id": "kaoqY-qqIJxQ"
   },
   "source": [
    "Once we installed them we import `pandas` in order to deal with the dataset as usual. `plotly` to make the visualizations. And finally `Dash` to build an small static website."
   ]
  },
  {
   "cell_type": "code",
   "execution_count": 4,
   "metadata": {
    "id": "4ZKPQQ97M2cP"
   },
   "outputs": [
    {
     "name": "stderr",
     "output_type": "stream",
     "text": [
      "/var/folders/2d/x4hpk9n158v35m8rlg82pjkc9qmk2t/T/ipykernel_77965/3412413817.py:1: DeprecationWarning: \n",
      "Pyarrow will become a required dependency of pandas in the next major release of pandas (pandas 3.0),\n",
      "(to allow more performant data types, such as the Arrow string type, and better interoperability with other libraries)\n",
      "but was not found to be installed on your system.\n",
      "If this would cause problems for you,\n",
      "please provide us feedback at https://github.com/pandas-dev/pandas/issues/54466\n",
      "        \n",
      "  import pandas as pd\n"
     ]
    }
   ],
   "source": [
    "import pandas as pd\n",
    "\n",
    "import plotly.graph_objects as go\n",
    "import plotly.express as px\n",
    "\n",
    "from dash import dcc\n",
    "from dash import html\n",
    "from jupyter_dash import JupyterDash"
   ]
  },
  {
   "cell_type": "markdown",
   "metadata": {
    "id": "ZwPHKFU8Igg1"
   },
   "source": [
    "## Reading the dataset"
   ]
  },
  {
   "cell_type": "code",
   "execution_count": 15,
   "metadata": {
    "id": "7XB0NOR5M7w5"
   },
   "outputs": [],
   "source": [
    "url = '../data/sysarmy_survey_2020_processed.csv'\n",
    "df = pd.read_csv(url)"
   ]
  },
  {
   "cell_type": "markdown",
   "metadata": {
    "id": "bLzma-PnIh9W"
   },
   "source": [
    "## What do we plot?\n",
    "\n",
    "After the exploration process we need to choose the plots we are going to show to the our clients, supervisors, boss. In this case we are going to come back to previous plots of the nobetook 04. Our choices plots related to the `salary_monthly_NET` variable and the `profile_studies_level`. In this case 3 types of barplots.\n",
    "\n",
    "We saved each of these plots as figures objects (note the fig suffix we added to their name)."
   ]
  },
  {
   "cell_type": "code",
   "execution_count": 23,
   "metadata": {
    "id": "9OTrRyvyc8aa"
   },
   "outputs": [],
   "source": [
    "sorted_studies_levels = [\"Primary\", \"Secondary\", \"Terciary\", \"University\",\n",
    "                         \"Postgraduate\", \"Doctorate\", \"Postdoc\"]\n",
    "\n",
    "# Barplot of the profile_studies_level alongside their frequency count.\n",
    "df_studies_level_count = (\n",
    "    df[\"profile_studies_level\"]\n",
    "      .value_counts()\n",
    "      .reset_index())\n",
    "\n",
    "studies_level_count_fig = px.bar(df_studies_level_count,\n",
    "                                 x='profile_studies_level',\n",
    "                                 y='count',\n",
    "                                 category_orders=dict(profile_studies_level=sorted_studies_levels))\n",
    "\n",
    "\n",
    "# Barplot of the profile_studies_level alongside the mean of the salary\n",
    "\n",
    "df_studies_level_mean = (\n",
    "    df[[\"profile_studies_level\", \"salary_monthly_NET\"]]\n",
    "      .groupby(\"profile_studies_level\")\n",
    "      .mean()\n",
    "      .reset_index()\n",
    "      .rename(columns={\"salary_monthly_NET\": \"salary_monthly_NET_mean\"})\n",
    ")\n",
    "\n",
    "# df_studies_level_mean.columns\n",
    "studies_level_mean_fig = px.bar(df_studies_level_mean,\n",
    "                                x='profile_studies_level',\n",
    "                                y='salary_monthly_NET_mean',\n",
    "                                category_orders=dict(profile_studies_level=sorted_studies_levels))\n",
    "\n",
    "\n",
    "# # Barplot using grouped studies level alongside the mean of the salary\n",
    "new_groups = {\n",
    "    'Postdoc': 'Postgraduate',\n",
    "    'Doctorate': 'Postgraduate',\n",
    "    'Primary': 'Pre-degree',\n",
    "    'Secondary': 'Pre-degree'\n",
    "}\n",
    "order = ['Pre-degree', 'Terciary', 'University', 'Postgraduate']\n",
    "grouped_studies_level = df.profile_studies_level.replace(new_groups)\n",
    "df[\"grouped_profile_studies_level\"] = grouped_studies_level\n",
    "\n",
    "df_grouped_studies_level_mean = (\n",
    "    df[[\"grouped_profile_studies_level\", \"profile_studies_level_state\", \"salary_monthly_NET\"]]\n",
    "      .groupby([\"grouped_profile_studies_level\", \"profile_studies_level_state\"])\n",
    "      .mean()\n",
    "      .reset_index()\n",
    "      .rename(columns={\"salary_monthly_NET\": \"salary_monthly_NET_mean\"})\n",
    ")\n",
    "\n",
    "grouped_studies_level_fig = px.bar(df_grouped_studies_level_mean,\n",
    "                                   x='grouped_profile_studies_level',\n",
    "                                   y='salary_monthly_NET_mean',\n",
    "                                   color='profile_studies_level_state',\n",
    "                                   barmode='group',\n",
    "                                   category_orders=dict(grouped_profile_studies_level=order))"
   ]
  },
  {
   "cell_type": "markdown",
   "metadata": {
    "id": "393FrL8UJVia"
   },
   "source": [
    "## HTML and CSS\n",
    "\n",
    "HTML is a declarative language to specify the layout of a webpage.\n",
    "\n",
    "Cascading Style Sheets (CSS) is used to format the layout of a webpage.\n",
    "\n",
    "With CSS, you can control the color, font, the size of text, the spacing between elements, how elements are positioned and laid out, what background images or background colors are to be used, different displays for different devices and screen sizes, and much more!"
   ]
  },
  {
   "cell_type": "markdown",
   "metadata": {
    "id": "g5flHlh8Ju5m"
   },
   "source": [
    "In this code cell we formated each section in our layout and set certain visualization properties. For example the header has a dark blue color with a height of 256 pixeles."
   ]
  },
  {
   "cell_type": "code",
   "execution_count": 30,
   "metadata": {
    "id": "ZigJvlMPGR59"
   },
   "outputs": [],
   "source": [
    "header = {\n",
    "    \"background-color\": \"#222222\",\n",
    "    \"height\": \"256px\",\n",
    "    \"display\": \"flex\",\n",
    "    \"flex-direction\": \"column\",\n",
    "    \"justify-content\": \"center;\",\n",
    "}\n",
    "\n",
    "header_title = {\n",
    "    'color': '#FFFFFF',\n",
    "    'font-size': '48px',\n",
    "    'font-weight': 'bold',\n",
    "    'text-align': 'center',\n",
    "    'margin': '0 auto',\n",
    "}\n",
    "\n",
    "header_description = {\n",
    "    'color': '#CFCFCF',\n",
    "    'margin': '4px auto',\n",
    "    'text-align': 'center',\n",
    "    'max-width': '384px',\n",
    "}\n",
    "\n",
    "plot_card = {\n",
    "    'margin-bottom': '24px',\n",
    "    'box-shadow': '0 4px 6px 0 rgba(0, 0, 0, 0.18)'\n",
    "}\n",
    "\n",
    "wrapper = {\n",
    "    'margin-right': 'auto',\n",
    "    'margin-left': 'auto',\n",
    "    'max-width': '1024px',\n",
    "    'padding-right': '10px',\n",
    "    'padding-left': '10px',\n",
    "    'margin-top': '32px',\n",
    "    'font-family': '\"Lato\", sans-serif',\n",
    "    'background-color': '#F7F7F7'\n",
    "}"
   ]
  },
  {
   "cell_type": "markdown",
   "metadata": {
    "id": "PP2KSPebJtuy"
   },
   "source": [
    "Once we defined the styles and the layout we can combine them using slash. Here Div objects correspond to `<div>` tags in html, the parameter `children` indicates all the following tags that depend on the `div` object. Once our layout is finished we can run our application server in external mode so it can be run in your localhost in this case in http://127.0.0.1:8050/ ."
   ]
  },
  {
   "cell_type": "code",
   "execution_count": 32,
   "metadata": {
    "colab": {
     "base_uri": "https://localhost:8080/",
     "height": 52
    },
    "id": "Dm7dDVuDNs1P",
    "outputId": "0e684d17-7044-4d7a-81fd-73ea8e722277"
   },
   "outputs": [
    {
     "name": "stderr",
     "output_type": "stream",
     "text": [
      "/Users/mkattel/miniconda3/envs/reg/lib/python3.12/site-packages/dash/dash.py:585: UserWarning:\n",
      "\n",
      "JupyterDash is deprecated, use Dash instead.\n",
      "See https://dash.plotly.com/dash-in-jupyter for more details.\n",
      "\n"
     ]
    },
    {
     "ename": "TypeError",
     "evalue": "'NoneType' object cannot be interpreted as an integer",
     "output_type": "error",
     "traceback": [
      "\u001b[0;31m---------------------------------------------------------------------------\u001b[0m",
      "\u001b[0;31mTypeError\u001b[0m                                 Traceback (most recent call last)",
      "Cell \u001b[0;32mIn[32], line 26\u001b[0m\n\u001b[1;32m      2\u001b[0m app\u001b[38;5;241m.\u001b[39mlayout \u001b[38;5;241m=\u001b[39m html\u001b[38;5;241m.\u001b[39mDiv(\n\u001b[1;32m      3\u001b[0m     children\u001b[38;5;241m=\u001b[39m[\n\u001b[1;32m      4\u001b[0m         html\u001b[38;5;241m.\u001b[39mDiv(\n\u001b[0;32m   (...)\u001b[0m\n\u001b[1;32m     22\u001b[0m     style\u001b[38;5;241m=\u001b[39mwrapper\n\u001b[1;32m     23\u001b[0m )\n\u001b[1;32m     25\u001b[0m \u001b[38;5;28;01mif\u001b[39;00m \u001b[38;5;18m__name__\u001b[39m \u001b[38;5;241m==\u001b[39m\u001b[38;5;124m'\u001b[39m\u001b[38;5;124m__main__\u001b[39m\u001b[38;5;124m'\u001b[39m:\n\u001b[0;32m---> 26\u001b[0m     \u001b[43mapp\u001b[49m\u001b[38;5;241;43m.\u001b[39;49m\u001b[43mrun_server\u001b[49m\u001b[43m(\u001b[49m\u001b[43mmode\u001b[49m\u001b[38;5;241;43m=\u001b[39;49m\u001b[38;5;124;43m\"\u001b[39;49m\u001b[38;5;124;43mexternal\u001b[39;49m\u001b[38;5;124;43m\"\u001b[39;49m\u001b[43m)\u001b[49m\n",
      "File \u001b[0;32m~/miniconda3/envs/reg/lib/python3.12/site-packages/jupyter_dash/jupyter_app.py:222\u001b[0m, in \u001b[0;36mJupyterDash.run_server\u001b[0;34m(self, mode, width, height, inline_exceptions, **kwargs)\u001b[0m\n\u001b[1;32m    220\u001b[0m old_server \u001b[38;5;241m=\u001b[39m \u001b[38;5;28mself\u001b[39m\u001b[38;5;241m.\u001b[39m_server_threads\u001b[38;5;241m.\u001b[39mget((host, port))\n\u001b[1;32m    221\u001b[0m \u001b[38;5;28;01mif\u001b[39;00m old_server:\n\u001b[0;32m--> 222\u001b[0m     \u001b[43mold_server\u001b[49m\u001b[38;5;241;43m.\u001b[39;49m\u001b[43mkill\u001b[49m\u001b[43m(\u001b[49m\u001b[43m)\u001b[49m\n\u001b[1;32m    223\u001b[0m     old_server\u001b[38;5;241m.\u001b[39mjoin()\n\u001b[1;32m    224\u001b[0m     \u001b[38;5;28;01mdel\u001b[39;00m \u001b[38;5;28mself\u001b[39m\u001b[38;5;241m.\u001b[39m_server_threads[(host, port)]\n",
      "File \u001b[0;32m~/miniconda3/envs/reg/lib/python3.12/site-packages/jupyter_dash/_stoppable_thread.py:16\u001b[0m, in \u001b[0;36mStoppableThread.kill\u001b[0;34m(self)\u001b[0m\n\u001b[1;32m     13\u001b[0m \u001b[38;5;28;01mdef\u001b[39;00m \u001b[38;5;21mkill\u001b[39m(\u001b[38;5;28mself\u001b[39m):\n\u001b[1;32m     14\u001b[0m     thread_id \u001b[38;5;241m=\u001b[39m \u001b[38;5;28mself\u001b[39m\u001b[38;5;241m.\u001b[39mget_id()\n\u001b[1;32m     15\u001b[0m     res \u001b[38;5;241m=\u001b[39m ctypes\u001b[38;5;241m.\u001b[39mpythonapi\u001b[38;5;241m.\u001b[39mPyThreadState_SetAsyncExc(\n\u001b[0;32m---> 16\u001b[0m         \u001b[43mctypes\u001b[49m\u001b[38;5;241;43m.\u001b[39;49m\u001b[43mc_long\u001b[49m\u001b[43m(\u001b[49m\u001b[43mthread_id\u001b[49m\u001b[43m)\u001b[49m, ctypes\u001b[38;5;241m.\u001b[39mpy_object(\u001b[38;5;167;01mSystemExit\u001b[39;00m)\n\u001b[1;32m     17\u001b[0m     )\n\u001b[1;32m     18\u001b[0m     \u001b[38;5;28;01mif\u001b[39;00m res \u001b[38;5;241m==\u001b[39m \u001b[38;5;241m0\u001b[39m:\n\u001b[1;32m     19\u001b[0m         \u001b[38;5;28;01mraise\u001b[39;00m \u001b[38;5;167;01mValueError\u001b[39;00m(\u001b[38;5;124mf\u001b[39m\u001b[38;5;124m\"\u001b[39m\u001b[38;5;124mInvalid thread id: \u001b[39m\u001b[38;5;132;01m{\u001b[39;00mthread_id\u001b[38;5;132;01m}\u001b[39;00m\u001b[38;5;124m\"\u001b[39m)\n",
      "\u001b[0;31mTypeError\u001b[0m: 'NoneType' object cannot be interpreted as an integer"
     ]
    }
   ],
   "source": [
    "app = JupyterDash(__name__)\n",
    "app.layout = html.Div(\n",
    "    children=[\n",
    "        html.Div(\n",
    "            children=[\n",
    "                html.H1(children=\"Using Dash\", style=header_title),\n",
    "                html.P(\n",
    "                    children=\"Analyze the salary monthly net alongside the years of experience\",\n",
    "                    style=header_description\n",
    "                )     \n",
    "            ],\n",
    "            style=header),\n",
    "        html.Div(\n",
    "            children=[\n",
    "                dcc.Graph(figure=studies_level_count_fig),\n",
    "                dcc.Graph(figure=studies_level_mean_fig),\n",
    "                dcc.Graph(figure=grouped_studies_level_fig)         \n",
    "            ],\n",
    "            style=plot_card,\n",
    "        )\n",
    "    ],\n",
    "    style=wrapper\n",
    ")\n",
    "\n",
    "if __name__ =='__main__':\n",
    "    app.run_server(mode=\"external\")"
   ]
  }
 ],
 "metadata": {
  "colab": {
   "collapsed_sections": [],
   "name": "05__dash.ipynb",
   "provenance": [],
   "toc_visible": true
  },
  "interpreter": {
   "hash": "269c57b1aa7650c6e7b02d321e414271715651c555e34288d58df9d1df8b4b2a"
  },
  "kernelspec": {
   "display_name": "dash-demo",
   "language": "python",
   "name": "python3"
  },
  "language_info": {
   "codemirror_mode": {
    "name": "ipython",
    "version": 3
   },
   "file_extension": ".py",
   "mimetype": "text/x-python",
   "name": "python",
   "nbconvert_exporter": "python",
   "pygments_lexer": "ipython3",
   "version": "3.12.1"
  }
 },
 "nbformat": 4,
 "nbformat_minor": 1
}
