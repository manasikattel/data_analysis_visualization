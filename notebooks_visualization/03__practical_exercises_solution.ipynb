{
 "cells": [
  {
   "cell_type": "markdown",
   "metadata": {},
   "source": [
    "## Practical Exercises\n",
    "\n",
    "We are going to work on a different dataset from the theory. It's a dataset oriented to housing properties on sale in Melbourne, Australia. Each row registers a sold property and each column its properties."
   ]
  },
  {
   "cell_type": "code",
   "execution_count": 1,
   "metadata": {},
   "outputs": [
    {
     "name": "stderr",
     "output_type": "stream",
     "text": [
      "/var/folders/2d/x4hpk9n158v35m8rlg82pjkc9qmk2t/T/ipykernel_79157/858013737.py:1: DeprecationWarning: \n",
      "Pyarrow will become a required dependency of pandas in the next major release of pandas (pandas 3.0),\n",
      "(to allow more performant data types, such as the Arrow string type, and better interoperability with other libraries)\n",
      "but was not found to be installed on your system.\n",
      "If this would cause problems for you,\n",
      "please provide us feedback at https://github.com/pandas-dev/pandas/issues/54466\n",
      "        \n",
      "  import pandas as pd\n"
     ]
    }
   ],
   "source": [
    "import pandas as pd\n",
    "\n",
    "melb_housing_df = pd.read_csv(\"../data/melb_housing_df.csv\")\n",
    "\n",
    "# If you are using google colab use this code to load the dataframe.\n",
    "# url = \"https://raw.githubusercontent.com/benjaminocampo/CDL_data_visualization/main/data/melb_housing_df.csv\"\n",
    "# melb_housing_df = pd.read_csv(url)"
   ]
  },
  {
   "cell_type": "code",
   "execution_count": 2,
   "metadata": {},
   "outputs": [
    {
     "name": "stderr",
     "output_type": "stream",
     "text": [
      "/var/folders/2d/x4hpk9n158v35m8rlg82pjkc9qmk2t/T/ipykernel_79157/1132645739.py:1: FutureWarning: Downcasting behavior in `replace` is deprecated and will be removed in a future version. To retain the old behavior, explicitly call `result.infer_objects(copy=False)`. To opt-in to the future behavior, set `pd.set_option('future.no_silent_downcasting', True)`\n",
      "  melb_housing_df[\"label\"] = (melb_housing_df[\"housing_price\"] > 1000000).replace({True: 1, False: 0})\n"
     ]
    }
   ],
   "source": [
    "melb_housing_df[\"label\"] = (melb_housing_df[\"housing_price\"] > 1000000).replace({True: 1, False: 0})"
   ]
  },
  {
   "cell_type": "code",
   "execution_count": 3,
   "metadata": {},
   "outputs": [
    {
     "data": {
      "text/plain": [
       "label\n",
       "0    7837\n",
       "1    5369\n",
       "Name: count, dtype: int64"
      ]
     },
     "execution_count": 3,
     "metadata": {},
     "output_type": "execute_result"
    }
   ],
   "source": [
    "melb_housing_df[\"label\"].value_counts()"
   ]
  },
  {
   "cell_type": "markdown",
   "metadata": {},
   "source": [
    "Exercise 0) Split the dataset in train and test set based on the label giving 80/% for the training data and 20/% for the testing data. Use `train_test_split` from `sklearn.model_selection`\n",
    "\n",
    "Use these columns as feature vectors `[\n",
    "    'housing_type',\n",
    "    'housing_selling_method',\n",
    "    'housing_bathroom_segment',\n",
    "    'housing_room_segment',\n",
    "    'housing_cbd_distance',\n",
    "    'housing_land_size'\n",
    "]`\n",
    "\n",
    "Use `label` as y."
   ]
  },
  {
   "cell_type": "code",
   "execution_count": 17,
   "metadata": {},
   "outputs": [],
   "source": [
    "cols_to_use = ['housing_type',\n",
    "    'housing_selling_method',\n",
    "    'housing_bathroom_segment',\n",
    "    'housing_room_segment',\n",
    "    'housing_cbd_distance',\n",
    "    'housing_land_size']\n",
    "X, y = melb_housing_df[cols_to_use], melb_housing_df[\"label\"]\n",
    "\n",
    "from sklearn.model_selection import train_test_split\n",
    "\n",
    "X_train, X_test, y_train, y_test = train_test_split(X, y, test_size=0.2, random_state=0)"
   ]
  },
  {
   "cell_type": "markdown",
   "metadata": {},
   "source": [
    "Exercise 1): You have a dataframe containing information about various housing properties. Your task is to perform feature engineering to prepare the data for machine learning models.\n",
    "\n",
    "- One-hot encode the following categorical columns:\n",
    "    `housing_type`, \n",
    "    `housing_selling_method`, \n",
    "    `housing_bathroom_segment`, \n",
    "    `housing_room_segment`\n",
    "\n",
    "- Keep these numerical columns in the feature set:\n",
    "    `housing_cbd_distance`\n",
    "    `housing_land_size`\n",
    "\n",
    "- Drop all other columns from the dataframe.\n",
    "\n",
    "\n",
    "Remember to fit the encoders with only the training data."
   ]
  },
  {
   "cell_type": "code",
   "execution_count": 18,
   "metadata": {},
   "outputs": [],
   "source": [
    "one_hot_columns = [\n",
    "    'housing_type',\n",
    "    'housing_selling_method',\n",
    "    'housing_bathroom_segment',\n",
    "    'housing_room_segment'\n",
    "]\n",
    "\n",
    "numerical_columns = [\n",
    "    'housing_cbd_distance',\n",
    "    'housing_land_size'\n",
    "]\n",
    "\n",
    "from sklearn.preprocessing import OneHotEncoder\n",
    "encoder = OneHotEncoder(sparse_output=False)\n",
    "X_train_encoded = encoder.fit_transform(X_train[one_hot_columns])\n",
    "X_test_encoded = encoder.transform(X_test[one_hot_columns])\n"
   ]
  },
  {
   "cell_type": "markdown",
   "metadata": {},
   "source": [
    "Exercise 2) Apply an standard scaler to only the numerical columns.\n",
    "\n",
    "Remember to fit the scaler with only the training data."
   ]
  },
  {
   "cell_type": "code",
   "execution_count": 19,
   "metadata": {},
   "outputs": [],
   "source": [
    "from sklearn.preprocessing import StandardScaler\n",
    "scaler = StandardScaler()\n",
    "X_train_numerical_scaled = scaler.fit_transform(X_train[numerical_columns])\n",
    "X_test_numerical_scaled = scaler.fit_transform(X_test[numerical_columns])\n"
   ]
  },
  {
   "cell_type": "markdown",
   "metadata": {},
   "source": [
    "Exercise 3) Use the Pipeline class of scikit-learn to apply the transformations in Exercise 1 and 2 and then after standarization add in the pipeline an step of polynomial features of degree 3."
   ]
  },
  {
   "cell_type": "code",
   "execution_count": 46,
   "metadata": {},
   "outputs": [],
   "source": [
    "from sklearn.pipeline import Pipeline\n",
    "from sklearn.compose import ColumnTransformer\n",
    "from sklearn.preprocessing import PolynomialFeatures\n",
    "\n",
    "preprocessor = ColumnTransformer(\n",
    "    transformers=[\n",
    "        ('num', StandardScaler(), numerical_columns),            # Standardize numerical columns\n",
    "        ('cat', OneHotEncoder(drop='first', sparse_output=True), one_hot_columns)  # One-hot encode categorical columns\n",
    "    ]\n",
    ")\n",
    "\n",
    "# Build the full pipeline with PolynomialFeatures\n",
    "pipeline = Pipeline(steps=[\n",
    "    ('preprocessor', preprocessor),          # Apply preprocessor (standardization and encoding)\n",
    "    ('poly', PolynomialFeatures(degree=3))   # Apply PolynomialFeatures with degree=3\n",
    "])\n",
    "\n",
    "X_train_processed = pipeline.fit_transform(X_train)\n",
    "X_test_processed = pipeline.transform(X_test)\n"
   ]
  },
  {
   "cell_type": "markdown",
   "metadata": {},
   "source": [
    "Exercise 4) Calculate the size in MB of the resultant train and test matrices."
   ]
  },
  {
   "cell_type": "code",
   "execution_count": 43,
   "metadata": {},
   "outputs": [],
   "source": [
    "train_size_bytes = X_train_processed.shape[0]*X_train_processed.shape[1]*4\n"
   ]
  },
  {
   "cell_type": "code",
   "execution_count": 44,
   "metadata": {},
   "outputs": [
    {
     "data": {
      "text/plain": [
       "(54.805908203125, 13.7066650390625, 57468160)"
      ]
     },
     "execution_count": 44,
     "metadata": {},
     "output_type": "execute_result"
    }
   ],
   "source": [
    "# train_size_bytes = X_train_processed.shape[0]*X_train_processed.shape[1]*4\n",
    "train_size_bytes = X_train_processed.nbytes\n",
    "test_size_bytes = X_test_processed.nbytes\n",
    "\n",
    "# Convert bytes to megabytes (1 MB = 1024 * 1024 bytes)\n",
    "train_size_mb = train_size_bytes / (1024 ** 2)\n",
    "test_size_mb = test_size_bytes / (1024 ** 2)\n",
    "train_size_mb, test_size_mb,train_size_bytes"
   ]
  },
  {
   "cell_type": "markdown",
   "metadata": {},
   "source": [
    "Exercise 5) Train a LogisticRegression model on the training set, evaluate on the test set. Make the confusion matrix plot for the predictions on the test set."
   ]
  },
  {
   "cell_type": "code",
   "execution_count": 34,
   "metadata": {},
   "outputs": [
    {
     "name": "stderr",
     "output_type": "stream",
     "text": [
      "/Users/mkattel/miniconda3/envs/reg/lib/python3.12/site-packages/sklearn/linear_model/_logistic.py:469: ConvergenceWarning: lbfgs failed to converge (status=1):\n",
      "STOP: TOTAL NO. of ITERATIONS REACHED LIMIT.\n",
      "\n",
      "Increase the number of iterations (max_iter) or scale the data as shown in:\n",
      "    https://scikit-learn.org/stable/modules/preprocessing.html\n",
      "Please also refer to the documentation for alternative solver options:\n",
      "    https://scikit-learn.org/stable/modules/linear_model.html#logistic-regression\n",
      "  n_iter_i = _check_optimize_result(\n"
     ]
    }
   ],
   "source": [
    "from sklearn.linear_model import LogisticRegression\n",
    "\n",
    "pipeline = Pipeline(steps=[\n",
    "    ('preprocessor', preprocessor),\n",
    "    ('poly', PolynomialFeatures(degree=3)),\n",
    "    ('classifier', LogisticRegression(max_iter=1000))  \n",
    "])\n",
    "\n",
    "pipeline.fit(X_train, y_train)\n",
    "\n",
    "# Predict on the test set\n",
    "y_pred = pipeline.predict(X_test)\n"
   ]
  },
  {
   "cell_type": "code",
   "execution_count": 39,
   "metadata": {},
   "outputs": [
    {
     "name": "stdout",
     "output_type": "stream",
     "text": [
      "Classification Report:\n",
      "               precision    recall  f1-score   support\n",
      "\n",
      "           0       0.81      0.83      0.82      1558\n",
      "           1       0.75      0.73      0.74      1084\n",
      "\n",
      "    accuracy                           0.79      2642\n",
      "   macro avg       0.78      0.78      0.78      2642\n",
      "weighted avg       0.79      0.79      0.79      2642\n",
      "\n"
     ]
    },
    {
     "data": {
      "image/png": "[encoded data removed]",
      "text/plain": [
       "<Figure size 640x480 with 2 Axes>"
      ]
     },
     "metadata": {},
     "output_type": "display_data"
    }
   ],
   "source": [
    "from sklearn.metrics import classification_report\n",
    "from sklearn.metrics import ConfusionMatrixDisplay\n",
    "import matplotlib.pyplot as plt\n",
    "\n",
    "print(\"Classification Report:\\n\", classification_report(y_test, y_pred))\n",
    "# Plot the confusion matrix\n",
    "ConfusionMatrixDisplay.from_estimator(pipeline, X_test, y_test, display_labels=['Class 0', 'Class 1'], cmap=\"grey\")\n",
    "plt.title('Confusion Matrix')\n",
    "plt.tight_layout()\n"
   ]
  },
  {
   "cell_type": "markdown",
   "metadata": {},
   "source": []
  }
 ],
 "metadata": {
  "interpreter": {
   "hash": "9a261fe3232d26f5c8a3b17afd155c889a6f52aad30d4dff29769029555a05e9"
  },
  "kernelspec": {
   "display_name": "Python 3.9.7 ('phd-corpora')",
   "language": "python",
   "name": "python3"
  },
  "language_info": {
   "codemirror_mode": {
    "name": "ipython",
    "version": 3
   },
   "file_extension": ".py",
   "mimetype": "text/x-python",
   "name": "python",
   "nbconvert_exporter": "python",
   "pygments_lexer": "ipython3",
   "version": "3.12.1"
  },
  "orig_nbformat": 4
 },
 "nbformat": 4,
 "nbformat_minor": 2
}
