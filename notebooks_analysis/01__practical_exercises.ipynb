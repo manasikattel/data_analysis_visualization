{
 "cells": [
  {
   "cell_type": "code",
   "execution_count": 1,
   "metadata": {},
   "outputs": [
    {
     "name": "stdout",
     "output_type": "stream",
     "text": [
      "Training Features shape: (455, 30)\n",
      "Training Labels shape: (455,)\n",
      "Testing Features shape: (114, 30)\n",
      "Testing Labels shape: (114,)\n"
     ]
    }
   ],
   "source": [
    "import numpy as np\n",
    "from sklearn.model_selection import train_test_split\n",
    "from sklearn.datasets import load_breast_cancer\n",
    "\n",
    "# Set a random seed for reproducibility\n",
    "np.random.seed(42)\n",
    "\n",
    "# Load the dataset\n",
    "data = load_breast_cancer()\n",
    "X = data.data  # Features\n",
    "y = data.target  # Labels\n",
    "\n",
    "# Split the data into training and testing sets\n",
    "X_train, X_test, y_train, y_test = train_test_split(X, y, test_size=0.2, random_state=42)\n",
    "\n",
    "# Introduce missing values in the training dataset\n",
    "mask = np.random.rand(*X_train.shape) < 0.1  # Assuming 10% of data is missing\n",
    "X_train_missing = X_train.copy()\n",
    "X_train_missing[mask] = np.nan\n",
    "\n",
    "# Printing the shape of the training and testing data\n",
    "print(f\"Training Features shape: {X_train_missing.shape}\")\n",
    "print(f\"Training Labels shape: {y_train.shape}\")\n",
    "print(f\"Testing Features shape: {X_test.shape}\")\n",
    "print(f\"Testing Labels shape: {y_test.shape}\")\n"
   ]
  },
  {
   "cell_type": "markdown",
   "metadata": {},
   "source": [
    "## Exercise 1: Imputation of Missing Values\n",
    "\n",
    "Simple Imputation:\n",
    "    Utilize the `SimpleImputer` class from scikit-learn to fill in the missing values in the `X_train_missing` dataset. Use the mean strategy for imputation.\n",
    "\n",
    "## Exercise 2: Visualization using T-SNE\n",
    "\n",
    "T-SNE Application:\n",
    "    Apply `T-SNE` on the imputed data to reduce it to 2 dimensions.\n",
    "\n",
    "Plotting the Features:\n",
    "    Plot the two-dimensional features obtained from T-SNE and color the points by their labels to visualize the class separation. Do this for both for train and test sets.\n",
    "\n",
    "## Exercise 3: Dimensionality Reduction using PCA\n",
    "\n",
    "PCA Application:\n",
    "    Apply PCA on the imputed data.\n",
    "\n",
    "Elbow Plot:\n",
    "    Create an elbow plot to visualize the explained variance ratio for each component. Determine the number of principal components that explain at least 90% of the variance.\n",
    "\n",
    "## Exercise 4: Logistic Regression on PCA Features\n",
    "\n",
    "Logistic Regression:\n",
    "    Train a logistic regression model on the training data using the PCA features obtained in Exercise 3.\n",
    "\n",
    "Model Evaluation:\n",
    "    Make predictions on the testing data and compute the confusion matrix.\n",
    "\n",
    "Confusion Matrix:\n",
    "    Plot the confusion matrix to visualize the model's performance.\n",
    "\n",
    "## Exercise 5:\n",
    "\n",
    "Repeat Exercise 3 and 4 but this time with `X_train`, the dataset without missing values and then compare the results obtained with the imputed ones."
   ]
  },
  {
   "cell_type": "code",
   "execution_count": null,
   "metadata": {},
   "outputs": [],
   "source": []
  }
 ],
 "metadata": {
  "interpreter": {
   "hash": "9a261fe3232d26f5c8a3b17afd155c889a6f52aad30d4dff29769029555a05e9"
  },
  "kernelspec": {
   "display_name": "Python 3.9.7 ('phd-corpora')",
   "language": "python",
   "name": "python3"
  },
  "language_info": {
   "codemirror_mode": {
    "name": "ipython",
    "version": 3
   },
   "file_extension": ".py",
   "mimetype": "text/x-python",
   "name": "python",
   "nbconvert_exporter": "python",
   "pygments_lexer": "ipython3",
   "version": "3.9.7"
  },
  "orig_nbformat": 4
 },
 "nbformat": 4,
 "nbformat_minor": 2
}
