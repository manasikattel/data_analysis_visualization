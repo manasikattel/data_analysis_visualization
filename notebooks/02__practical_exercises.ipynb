{
 "cells": [
  {
   "cell_type": "markdown",
   "metadata": {},
   "source": [
    "## Practical Exercises\n",
    "\n",
    "We are going to work on a different dataset from the theory. It's a dataset oriented to housing properties on sale in Melbourne, Australia. Each row registers a sold property and each column its properties."
   ]
  },
  {
   "cell_type": "code",
   "execution_count": 3,
   "metadata": {},
   "outputs": [],
   "source": [
    "import pandas as pd\n",
    "\n",
    "melb_housing_df = pd.read_csv(\"../data/melb_housing_df.csv\")\n",
    "\n",
    "# If you are using google colab use this code to load the dataframe.\n",
    "# url = \"https://raw.githubusercontent.com/benjaminocampo/CDL_data_visualization/main/data/melb_housing_df.csv\"\n",
    "# melb_housing_df = pd.read_csv(url)"
   ]
  },
  {
   "cell_type": "markdown",
   "metadata": {},
   "source": [
    "**Exercises**:\n",
    "\n",
    "**1)** Remove outliers of the random variable `housing_price` by filtering out\n",
    "all those instances which are 2.5 standard deviations apart from the mean. That\n",
    "is, given an instance $x$ and mean $\\overline{x}$ and standard deviation\n",
    "$\\sigma$, $x$ is **not** considered **an outlier** iff:\n",
    "\n",
    "$$|x - \\overline{x}| \\leq 2.5 \\times \\sigma $$\n",
    "\n",
    "Apply the filter by updating the dataframe `melb_housing_df`.\n",
    "Plot boxplots before and after removing outliers.\n",
    "\n",
    "\n",
    "**2)** Using the filtered dataframe `melb_housing_df` of exercise 1) and the\n",
    "columns `housing_seller_agency` and `housing_price`, obtain the total collected\n",
    "money of the seller sales. Then, select the sellers with the 10 highest earnings\n",
    "(Top 10 best sellers) and create a `barplot` using `seaborn`.\n",
    "\n",
    "**3)** Create a `barplot` using `seaborn` that compares on the X ax the agency\n",
    "of these 10 sellers and their average property price. Plot the barplot in the same order as exercise 2.\n",
    "\n",
    "**4)** Create the same `barplot` but this time using `plotly`. Remember that a\n",
    "barplot performs an aggregation that in seaborn is done automatically, but in\n",
    "Plotly, you'll have to make the aggregation before with pandas. Do not consider\n",
    "the error bars for this plot."
   ]
  }
 ],
 "metadata": {
  "interpreter": {
   "hash": "9a261fe3232d26f5c8a3b17afd155c889a6f52aad30d4dff29769029555a05e9"
  },
  "kernelspec": {
   "display_name": "Python 3.9.7 ('phd-corpora')",
   "language": "python",
   "name": "python3"
  },
  "language_info": {
   "codemirror_mode": {
    "name": "ipython",
    "version": 3
   },
   "file_extension": ".py",
   "mimetype": "text/x-python",
   "name": "python",
   "nbconvert_exporter": "python",
   "pygments_lexer": "ipython3",
   "version": "3.12.1"
  },
  "orig_nbformat": 4
 },
 "nbformat": 4,
 "nbformat_minor": 2
}
